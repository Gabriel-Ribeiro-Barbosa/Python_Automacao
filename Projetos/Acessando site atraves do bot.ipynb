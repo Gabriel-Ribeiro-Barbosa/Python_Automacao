{
 "cells": [
  {
   "cell_type": "markdown",
   "id": "971ecc60-136a-4aab-b684-4b57651a5e26",
   "metadata": {},
   "source": [
    "### Projeto bot hashtag"
   ]
  },
  {
   "cell_type": "markdown",
   "id": "74ad95e1-39ab-4360-8d69-ebe3fd1da669",
   "metadata": {},
   "source": [
    "#### Importacões"
   ]
  },
  {
   "cell_type": "code",
   "execution_count": null,
   "id": "302ebdcc-96e7-4843-9ebf-28ca6d4c36be",
   "metadata": {},
   "outputs": [
    {
     "ename": "",
     "evalue": "",
     "output_type": "error",
     "traceback": [
      "\u001b[1;31mA execução de células com 'Python 3.12.2' requer o pacote ipykernel.\n",
      "\u001b[1;31mExecute o seguinte comando para instalar \"ipykernel\" no ambiente do Python. \n",
      "\u001b[1;31mComando: \"c:/Users/gabri/AppData/Local/Programs/Python/Python312/python.exe -m pip install ipykernel -U --user --force-reinstall\""
     ]
    }
   ],
   "source": [
    "import pyautogui\n",
    "from time import sleep\n",
    "pyautogui.PAUSE = 0.5"
   ]
  },
  {
   "cell_type": "markdown",
   "id": "bfbf6e0b-e8c1-4ca4-b954-12e93954b803",
   "metadata": {},
   "source": [
    "### Pegar posição"
   ]
  },
  {
   "cell_type": "code",
   "execution_count": null,
   "id": "7ef78b31-8c52-437c-b009-d4d4038721fa",
   "metadata": {},
   "outputs": [
    {
     "ename": "",
     "evalue": "",
     "output_type": "error",
     "traceback": [
      "\u001b[1;31mA execução de células com 'Python 3.12.2' requer o pacote ipykernel.\n",
      "\u001b[1;31mExecute o seguinte comando para instalar \"ipykernel\" no ambiente do Python. \n",
      "\u001b[1;31mComando: \"c:/Users/gabri/AppData/Local/Programs/Python/Python312/python.exe -m pip install ipykernel -U --user --force-reinstall\""
     ]
    }
   ],
   "source": [
    "sleep(5)\n",
    "pyautogui.position()"
   ]
  },
  {
   "cell_type": "markdown",
   "id": "104a7811-1b3a-4609-b3eb-50e9281a6ac2",
   "metadata": {},
   "source": [
    "### Entrar no navegador"
   ]
  },
  {
   "cell_type": "code",
   "execution_count": null,
   "id": "e4310194-7323-4cd8-92de-17e81b5b543d",
   "metadata": {},
   "outputs": [
    {
     "ename": "",
     "evalue": "",
     "output_type": "error",
     "traceback": [
      "\u001b[1;31mA execução de células com 'Python 3.12.2' requer o pacote ipykernel.\n",
      "\u001b[1;31mExecute o seguinte comando para instalar \"ipykernel\" no ambiente do Python. \n",
      "\u001b[1;31mComando: \"c:/Users/gabri/AppData/Local/Programs/Python/Python312/python.exe -m pip install ipykernel -U --user --force-reinstall\""
     ]
    }
   ],
   "source": [
    "pyautogui.press('win')\n",
    "pyautogui.write('Opera')\n",
    "pyautogui.press('enter')"
   ]
  },
  {
   "cell_type": "markdown",
   "id": "6745497a-c7c9-4789-8cc5-9f3786bddcf3",
   "metadata": {},
   "source": [
    "### Entrar no site"
   ]
  },
  {
   "cell_type": "code",
   "execution_count": null,
   "id": "13b66076-6132-4204-bac3-17a776a7f531",
   "metadata": {},
   "outputs": [
    {
     "ename": "",
     "evalue": "",
     "output_type": "error",
     "traceback": [
      "\u001b[1;31mA execução de células com 'Python 3.12.2' requer o pacote ipykernel.\n",
      "\u001b[1;31mExecute o seguinte comando para instalar \"ipykernel\" no ambiente do Python. \n",
      "\u001b[1;31mComando: \"c:/Users/gabri/AppData/Local/Programs/Python/Python312/python.exe -m pip install ipykernel -U --user --force-reinstall\""
     ]
    }
   ],
   "source": [
    "pyautogui.moveTo(x=481, y=68,duration=1)\n",
    "pyautogui.click(x=481, y=68)\n",
    "pyautogui.write('https://www.hashtagtreinamentos.com')\n",
    "pyautogui.press('enter')"
   ]
  },
  {
   "cell_type": "markdown",
   "id": "166fc227-358b-4e1c-a00f-d5ffb7912f9e",
   "metadata": {},
   "source": [
    "### Cadastrar no site"
   ]
  },
  {
   "cell_type": "code",
   "execution_count": null,
   "id": "d10abacf-e4a1-4dfe-b0df-ca8f3f3cd278",
   "metadata": {},
   "outputs": [
    {
     "ename": "",
     "evalue": "",
     "output_type": "error",
     "traceback": [
      "\u001b[1;31mA execução de células com 'Python 3.12.2' requer o pacote ipykernel.\n",
      "\u001b[1;31mExecute o seguinte comando para instalar \"ipykernel\" no ambiente do Python. \n",
      "\u001b[1;31mComando: \"c:/Users/gabri/AppData/Local/Programs/Python/Python312/python.exe -m pip install ipykernel -U --user --force-reinstall\""
     ]
    }
   ],
   "source": [
    "pyautogui.moveTo(x=1414, y=148,duration=1)\n",
    "pyautogui.click(x=1281, y=327)\n",
    "pyautogui.scroll(-400)\n",
    "pyautogui.moveTo(x=448, y=431,duration=1)\n",
    "pyautogui.click(x=448, y=431)\n",
    "pyautogui.write('Gabriel')\n",
    "pyautogui.press('tab')\n",
    "pyautogui.write('gribeirobarbosa386@gmail.com')\n",
    "pyautogui.press('tab')\n",
    "pyautogui.press('tab')\n",
    "pyautogui.press('enter')"
   ]
  },
  {
   "cell_type": "code",
   "execution_count": null,
   "id": "2bfa8830-fdec-421d-a6bb-1b5fd4a77b23",
   "metadata": {},
   "outputs": [
    {
     "ename": "",
     "evalue": "",
     "output_type": "error",
     "traceback": [
      "\u001b[1;31mA execução de células com 'Python 3.12.2' requer o pacote ipykernel.\n",
      "\u001b[1;31mExecute o seguinte comando para instalar \"ipykernel\" no ambiente do Python. \n",
      "\u001b[1;31mComando: \"c:/Users/gabri/AppData/Local/Programs/Python/Python312/python.exe -m pip install ipykernel -U --user --force-reinstall\""
     ]
    }
   ],
   "source": []
  }
 ],
 "metadata": {
  "kernelspec": {
   "display_name": "Python 3 (ipykernel)",
   "language": "python",
   "name": "python3"
  },
  "language_info": {
   "codemirror_mode": {
    "name": "ipython",
    "version": 3
   },
   "file_extension": ".py",
   "mimetype": "text/x-python",
   "name": "python",
   "nbconvert_exporter": "python",
   "pygments_lexer": "ipython3",
   "version": "3.12.2"
  }
 },
 "nbformat": 4,
 "nbformat_minor": 5
}
