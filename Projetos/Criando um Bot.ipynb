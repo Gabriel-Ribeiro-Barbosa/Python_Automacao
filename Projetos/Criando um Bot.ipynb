{
 "cells": [
  {
   "cell_type": "code",
   "execution_count": 1,
   "id": "5914146a-c1a1-46b3-be32-1a1bce4cb518",
   "metadata": {},
   "outputs": [],
   "source": [
    "%config IPCompleter.greedy=True"
   ]
  },
  {
   "cell_type": "markdown",
   "id": "c80989b7-5d17-443d-9ab5-d535147731ff",
   "metadata": {},
   "source": [
    "## Criar bot no python"
   ]
  },
  {
   "cell_type": "markdown",
   "id": "faae9b07-1e21-4aab-83b6-675a06171d47",
   "metadata": {},
   "source": [
    "### Criando bot  no computador com o pyautogui"
   ]
  },
  {
   "cell_type": "markdown",
   "id": "fd78b764-5e80-48a0-8b23-c92eddf3b844",
   "metadata": {},
   "source": [
    "### Abrindo a ferramenta/programa/sistema)"
   ]
  },
  {
   "cell_type": "code",
   "execution_count": 2,
   "id": "8dae822f-6472-49b1-ab76-7f763dfa244b",
   "metadata": {},
   "outputs": [],
   "source": [
    "import pyautogui\n",
    "from time import sleep\n",
    "pyautogui.PAUSE = 2\n",
    "pyautogui.press('win')\n",
    "pyautogui.write('login.xlsx')\n",
    "pyautogui.press('enter')"
   ]
  },
  {
   "cell_type": "markdown",
   "id": "abd827ab-3b29-4055-9ab2-bbb7fb7f1232",
   "metadata": {},
   "source": [
    "### Preencher login e senha"
   ]
  },
  {
   "cell_type": "code",
   "execution_count": 3,
   "id": "41bbb5cf-a693-4164-b30f-98da136ec492",
   "metadata": {},
   "outputs": [],
   "source": [
    "pyautogui.click(x=516, y=317)\n",
    "pyautogui.write('Gabriel')\n",
    "pyautogui.press('enter')\n",
    "pyautogui.write('galaodamassa')"
   ]
  },
  {
   "cell_type": "markdown",
   "id": "80eb95b0-06e6-494b-8a62-92a4f7c1cf55",
   "metadata": {},
   "source": [
    "### Clicar em fazer login"
   ]
  },
  {
   "cell_type": "code",
   "execution_count": 4,
   "id": "c334834d-b9d1-4bb7-8aa6-569df701bc38",
   "metadata": {},
   "outputs": [],
   "source": [
    "pyautogui.click(x=516, y=497)"
   ]
  },
  {
   "cell_type": "markdown",
   "id": "7116d572-07c3-4857-a3b4-a40ea883b1d0",
   "metadata": {},
   "source": [
    "### Posicao do mouse"
   ]
  },
  {
   "cell_type": "code",
   "execution_count": 5,
   "id": "5eaaa022-542a-4014-9c52-0dcda1ac9fbb",
   "metadata": {},
   "outputs": [
    {
     "data": {
      "text/plain": [
       "Point(x=1282, y=218)"
      ]
     },
     "execution_count": 5,
     "metadata": {},
     "output_type": "execute_result"
    }
   ],
   "source": [
    "from time import sleep\n",
    "sleep(5)\n",
    "pyautogui.position()"
   ]
  },
  {
   "cell_type": "code",
   "execution_count": null,
   "id": "2ad18b7a-d03d-491b-980e-8c0650ceca57",
   "metadata": {},
   "outputs": [],
   "source": []
  }
 ],
 "metadata": {
  "kernelspec": {
   "display_name": "Python 3 (ipykernel)",
   "language": "python",
   "name": "python3"
  },
  "language_info": {
   "codemirror_mode": {
    "name": "ipython",
    "version": 3
   },
   "file_extension": ".py",
   "mimetype": "text/x-python",
   "name": "python",
   "nbconvert_exporter": "python",
   "pygments_lexer": "ipython3",
   "version": "3.11.7"
  }
 },
 "nbformat": 4,
 "nbformat_minor": 5
}
