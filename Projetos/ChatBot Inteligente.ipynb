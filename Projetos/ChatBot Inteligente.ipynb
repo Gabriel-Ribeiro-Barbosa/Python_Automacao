{
 "cells": [
  {
   "cell_type": "markdown",
   "id": "24a2fb38",
   "metadata": {},
   "source": [
    "##  Criando um Chatbot inteligente"
   ]
  },
  {
   "cell_type": "markdown",
   "id": "20217d53",
   "metadata": {},
   "source": [
    "### Importações e correção de bugs"
   ]
  },
  {
   "cell_type": "code",
   "execution_count": 5,
   "id": "e028e373",
   "metadata": {},
   "outputs": [
    {
     "name": "stdout",
     "output_type": "stream",
     "text": [
      "✔ Download and installation successful\n",
      "You can now load the package via spacy.load('en_core_web_sm')\n"
     ]
    }
   ],
   "source": [
    "from chatterbot import ChatBot as chat #importando a ferramenta chatterbot\n",
    "from chatterbot.trainers import ListTrainer #importando uma lista de ferramentas para treino\n",
    "\n",
    "#corigindo o bug\n",
    "from spacy.cli import download\n",
    "\n",
    "download(\"en_core_web_sm\")\n",
    "\n",
    "class ENGSM:\n",
    "    ISO_639_1 = 'en_core_web_sm'"
   ]
  },
  {
   "cell_type": "markdown",
   "id": "0b97e520",
   "metadata": {},
   "source": [
    "### Criando o ChatBot"
   ]
  },
  {
   "cell_type": "code",
   "execution_count": 7,
   "id": "a5d0311b",
   "metadata": {},
   "outputs": [],
   "source": [
    "chatbot = chat('Bot_Ronaldo',tagger_language=ENGSM) #Criando um bot chamado Bot_Ronaldo"
   ]
  },
  {
   "cell_type": "markdown",
   "id": "62fb8bde",
   "metadata": {},
   "source": [
    "### Treinando o Chat"
   ]
  },
  {
   "cell_type": "code",
   "execution_count": 8,
   "id": "9472d5be",
   "metadata": {},
   "outputs": [
    {
     "name": "stdout",
     "output_type": "stream",
     "text": [
      "List Trainer: [####################] 100%\n"
     ]
    }
   ],
   "source": [
    "conversa = [\n",
    "    'Iai',\n",
    "    'Oi tudo bem?',\n",
    "    'Tudo e você',\n",
    "    'To bem também, do que você quer falar?',\n",
    "    'A sei lá, que time tu é',\n",
    "    'Eu sou um robo seu burro, não tenho time',\n",
    "    'Então a partir de agora você é do galão da massa',\n",
    "    'Ok, eu sou do galo da massa'\n",
    "\n",
    "]\n",
    "\n",
    "trainer = ListTrainer(chatbot) #treinar o chat bot através de perguntas e respostas\n",
    "trainer.train(conversa)"
   ]
  },
  {
   "cell_type": "code",
   "execution_count": 9,
   "id": "f63890f5",
   "metadata": {},
   "outputs": [
    {
     "name": "stdout",
     "output_type": "stream",
     "text": [
      "Sua mensagem: Iai\n",
      "Oi tudo bem?\n",
      "Sua mensagem: Tudo e vc?\n",
      "To bem também, do que você quer falar?\n",
      "Sua mensagem: A sei lá, que time tu é\n",
      "Eu sou um robo seu burro, não tenho time\n",
      "Sua mensagem: Então a partir de agr tu é do galão \n",
      "Tudo e você\n",
      "Sua mensagem: Tu é do galo né\n",
      "Eu sou um robo seu burro, não tenho time\n",
      "Sua mensagem: mas agora voce é do galao da massa\n",
      "Eu sou um robo seu burro, não tenho time\n",
      "Sua mensagem: tem sim\n",
      "Tudo e você\n",
      "Sua mensagem: Eu nao voce\n",
      "To bem também, do que você quer falar?\n",
      "Sua mensagem: Time\n",
      "Eu sou um robo seu burro, não tenho time\n",
      "Sua mensagem: A partir de agora você é do galão da massa\n",
      "Tu é do galo né\n",
      "Sua mensagem: sim \n",
      "Eu sou um robo seu burro, não tenho time\n",
      "Sua mensagem: aaaaa para com isso mano\n",
      "Tudo e você\n",
      "Sua mensagem: to bem \n",
      "Time\n",
      "Sua mensagem: Vamos comecar do inicio\n",
      "Tu é do galo né\n",
      "Sua mensagem: Qual seu nome\n",
      "Então a partir de agora você é do galão da massa\n",
      "Sua mensagem: Obrigado\n",
      "A partir de agora você é do galão da massa\n",
      "Sua mensagem: tu é galo né\n",
      "Eu sou um robo seu burro, não tenho time\n",
      "Sua mensagem: tu é do cruzeiro então\n",
      "Eu sou um robo seu burro, não tenho time\n",
      "Sua mensagem: escolhe um time\n",
      "Então a partir de agora você é do galão da massa\n",
      "Sua mensagem: eu ja sou do galo\n",
      "Eu sou um robo seu burro, não tenho time\n",
      "Sua mensagem: parra\n",
      "tem sim\n",
      "Sua mensagem: tem o que\n",
      "A sei lá, que time tu é\n",
      "Sua mensagem: Atlético Mineiro\n",
      "Obrigado\n",
      "Sua mensagem: De nada\n",
      "To bem também, do que você quer falar?\n",
      "Sua mensagem: De comida\n",
      "escolhe um time\n",
      "Sua mensagem: Palmeiras\n",
      "A sei lá, que time tu é\n",
      "Sua mensagem: Ja disse sou do galo\n",
      "Tu é do galo né\n",
      "Sua mensagem: sim\n",
      "tem sim\n",
      "Sua mensagem: é realmente\n",
      "Tudo e você\n",
      "Sua mensagem: isso nao se encaixa\n",
      "Então a partir de agora você é do galão da massa\n",
      "Sua mensagem: ok\n",
      "Ok, eu sou do galo da massa\n",
      "Sua mensagem: eu tambem\n",
      "Ja disse sou do galo\n",
      "Sua mensagem: finalmente né\n",
      "Palmeiras\n",
      "Sua mensagem: nao gosto\n",
      "Eu sou um robo seu burro, não tenho time\n",
      "Sua mensagem: ue voce mesmo disse que era do galo\n",
      "Eu sou um robo seu burro, não tenho time\n",
      "Sua mensagem: ta ta\n",
      "tem o que\n",
      "Sua mensagem: Nada \n",
      "Tu é do galo né\n",
      "Sua mensagem: nao\n",
      "Eu sou um robo seu burro, não tenho time\n",
      "Sua mensagem: eu sei\n",
      "nao gosto\n",
      "Sua mensagem: de que?\n",
      "A sei lá, que time tu é\n",
      "Sua mensagem: real madrid\n",
      "Eu sou um robo seu burro, não tenho time\n",
      "Sua mensagem: ta bom\n",
      "eu tambem\n",
      "Sua mensagem: beleza\n",
      "nao gosto\n",
      "Sua mensagem: kkkk \n",
      "Ok, eu sou do galo da massa\n",
      "Sua mensagem: cara voce é muito repetitivo\n",
      "tem o que\n",
      "Sua mensagem: repetitivo\n",
      "Eu sou um robo seu burro, não tenho time\n",
      "Sua mensagem: Isso eu sei\n",
      "Tudo e você\n",
      "Sua mensagem: Bem\n",
      "Tudo e você\n",
      "Sua mensagem: Bem\n",
      "To bem também, do que você quer falar?\n",
      "Sua mensagem: Comida\n",
      "Qual seu nome\n",
      "Sua mensagem: Gabriel\n",
      "Eu sou um robo seu burro, não tenho time\n",
      "Sua mensagem: Nao te perguntei nada\n",
      "eu sei\n",
      "Sua mensagem: entao porque ainda fala\n",
      "A sei lá, que time tu é\n",
      "Sua mensagem: galo\n",
      "Iai\n",
      "Sua mensagem: bao\n",
      "to bem\n",
      "Sua mensagem: ok\n",
      "Time\n",
      "Sua mensagem: real madrid\n",
      "Ok, eu sou do galo da massa\n",
      "Sua mensagem: tchau\n",
      "Time\n",
      "Sua mensagem: sair\n"
     ]
    }
   ],
   "source": [
    "while True:\n",
    "    mensagem = input('Sua mensagem: ')\n",
    "    if mensagem == 'sair':\n",
    "        break\n",
    "    resposta = chatbot.get_response(mensagem)\n",
    "    print(resposta)"
   ]
  },
  {
   "cell_type": "code",
   "execution_count": null,
   "id": "b4c75cab",
   "metadata": {},
   "outputs": [],
   "source": [
    "chatbot.storage.drop()"
   ]
  }
 ],
 "metadata": {
  "kernelspec": {
   "display_name": "Python 3 (ipykernel)",
   "language": "python",
   "name": "python3"
  },
  "language_info": {
   "codemirror_mode": {
    "name": "ipython",
    "version": 3
   },
   "file_extension": ".py",
   "mimetype": "text/x-python",
   "name": "python",
   "nbconvert_exporter": "python",
   "pygments_lexer": "ipython3",
   "version": "3.11.7"
  }
 },
 "nbformat": 4,
 "nbformat_minor": 5
}
