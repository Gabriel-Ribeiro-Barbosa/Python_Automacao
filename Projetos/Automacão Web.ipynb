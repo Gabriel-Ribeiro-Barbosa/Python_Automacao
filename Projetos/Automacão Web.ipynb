{
 "cells": [
  {
   "cell_type": "markdown",
   "id": "bd0b1009-3cea-4fdd-aec9-edb09f9155d3",
   "metadata": {},
   "source": [
    "## Automação web com selenium"
   ]
  },
  {
   "cell_type": "markdown",
   "id": "a0cbd3c1-de0e-4005-8e75-45d2344219d9",
   "metadata": {},
   "source": [
    "### Instralar o selenium e o webdriver manager"
   ]
  },
  {
   "cell_type": "markdown",
   "id": "6a74e9fa-23b1-4428-b59a-3cc1dddcf384",
   "metadata": {},
   "source": [
    "### Criar navegador de forma que se atualize sosinho"
   ]
  },
  {
   "cell_type": "code",
   "execution_count": 1,
   "id": "9d8e1814-bd79-4454-8af6-81f04908bab6",
   "metadata": {},
   "outputs": [],
   "source": [
    "%config IPCompleter.greedy=True"
   ]
  },
  {
   "cell_type": "code",
   "execution_count": 2,
   "id": "f9499441-580c-466a-8293-51ebf7016465",
   "metadata": {},
   "outputs": [],
   "source": [
    "from selenium import webdriver\n",
    "from webdriver_manager.chrome import ChromeDriverManager\n",
    "from selenium.webdriver.chrome.service import Service\n",
    "servico = Service(ChromeDriverManager().install())\n",
    "navegador = webdriver.Chrome(service=servico)"
   ]
  },
  {
   "cell_type": "markdown",
   "id": "6b39803a-6c25-433c-8460-cb623feccd99",
   "metadata": {},
   "source": [
    "### Entrar em um link "
   ]
  },
  {
   "cell_type": "code",
   "execution_count": 3,
   "id": "a1cb525e-78b6-4236-9c20-4618e5bc83e1",
   "metadata": {},
   "outputs": [],
   "source": [
    "navegador.get('https://pages.hashtagtreinamentos.com/inscricao-minicurso-python-automacao-org?origemurl=hashtag_yt_org_minipython_videoselenium')"
   ]
  },
  {
   "cell_type": "markdown",
   "id": "4c1f57c6-4365-4ffb-95fd-6dff7a9e4d2e",
   "metadata": {},
   "source": [
    "### Preenchendo um formulário com nome e gmail"
   ]
  },
  {
   "cell_type": "code",
   "execution_count": 4,
   "id": "0e8f9e31-76a6-4c29-8e76-89211f2cd8e5",
   "metadata": {},
   "outputs": [],
   "source": [
    "navegador.find_element('xpath','//*[@id=\"section-10356508\"]/section/div[2]/div/div[2]/form/div[1]/div/div[1]/div/input').send_keys('Gabriel Ribeiro')\n",
    "navegador.find_element('xpath','//*[@id=\"section-10356508\"]/section/div[2]/div/div[2]/form/div[1]/div/div[2]/div/input').send_keys('gribeirobarbosa386@gmail.com')"
   ]
  },
  {
   "cell_type": "markdown",
   "id": "f213e15e-793a-4387-a8ca-d8305ccb69c5",
   "metadata": {},
   "source": [
    "### Clicando em enviar"
   ]
  },
  {
   "cell_type": "code",
   "execution_count": 5,
   "id": "afd3af78-b1df-4b72-9aac-8cebccc11ce6",
   "metadata": {},
   "outputs": [],
   "source": [
    "navegador.find_element('xpath','//*[@id=\"section-10356508\"]/section/div[2]/div/div[2]/form/button/span/b').click()"
   ]
  }
 ],
 "metadata": {
  "kernelspec": {
   "display_name": "Python 3 (ipykernel)",
   "language": "python",
   "name": "python3"
  },
  "language_info": {
   "codemirror_mode": {
    "name": "ipython",
    "version": 3
   },
   "file_extension": ".py",
   "mimetype": "text/x-python",
   "name": "python",
   "nbconvert_exporter": "python",
   "pygments_lexer": "ipython3",
   "version": "3.11.7"
  }
 },
 "nbformat": 4,
 "nbformat_minor": 5
}
