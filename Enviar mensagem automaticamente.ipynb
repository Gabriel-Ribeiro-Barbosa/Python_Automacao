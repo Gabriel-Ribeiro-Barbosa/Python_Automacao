{
 "cells": [
  {
   "cell_type": "markdown",
   "id": "d63f67f4-2d2e-4b87-9c26-73477141368e",
   "metadata": {},
   "source": [
    "#### Inportações"
   ]
  },
  {
   "cell_type": "code",
   "execution_count": 1,
   "id": "cbcd484a-8a06-49d9-8594-546e9dc2e8ea",
   "metadata": {},
   "outputs": [],
   "source": [
    "import pyautogui\n",
    "from time import sleep"
   ]
  },
  {
   "cell_type": "markdown",
   "id": "9dd273cc-0400-469a-a35b-7bd93e77309d",
   "metadata": {},
   "source": [
    "### Entrando no WhatsApp"
   ]
  },
  {
   "cell_type": "code",
   "execution_count": 2,
   "id": "e57c31b8-cbfb-4178-95d3-faa79f743bd7",
   "metadata": {},
   "outputs": [],
   "source": [
    "pyautogui.PAUSE = 0.5\n",
    "pyautogui.press('win')\n",
    "pyautogui.write('WhatsApp')\n",
    "pyautogui.press('enter')"
   ]
  },
  {
   "cell_type": "markdown",
   "id": "65db910f-f2d5-4767-a175-f893fa2c3347",
   "metadata": {},
   "source": [
    "### Mandando mensagem"
   ]
  },
  {
   "cell_type": "code",
   "execution_count": 3,
   "id": "e21b6321-55aa-4016-aaef-8b9e98006d89",
   "metadata": {},
   "outputs": [],
   "source": [
    "vezes = 7\n",
    "while True: \n",
    "    if vezes > 0:\n",
    "        vezes-= 1\n",
    "        pyautogui.click(x=466, y=218)\n",
    "        sleep(0.5)\n",
    "        pyautogui.hotkey('ctrl','shift','e')\n",
    "        sleep(0.5)\n",
    "        pyautogui.click(x=600, y=431)\n",
    "        pyautogui.click(x=448, y=503)\n",
    "    else:\n",
    "        break"
   ]
  },
  {
   "cell_type": "code",
   "execution_count": 4,
   "id": "2ddb8760-c84f-47f2-80e1-59689487b5e1",
   "metadata": {},
   "outputs": [
    {
     "data": {
      "text/plain": [
       "Point(x=448, y=503)"
      ]
     },
     "execution_count": 4,
     "metadata": {},
     "output_type": "execute_result"
    }
   ],
   "source": [
    "sleep(5)\n",
    "pyautogui.position()"
   ]
  },
  {
   "cell_type": "code",
   "execution_count": null,
   "id": "144903b8-a01c-40a4-9ebc-f862b5e6722a",
   "metadata": {},
   "outputs": [],
   "source": []
  }
 ],
 "metadata": {
  "kernelspec": {
   "display_name": "Python 3 (ipykernel)",
   "language": "python",
   "name": "python3"
  },
  "language_info": {
   "codemirror_mode": {
    "name": "ipython",
    "version": 3
   },
   "file_extension": ".py",
   "mimetype": "text/x-python",
   "name": "python",
   "nbconvert_exporter": "python",
   "pygments_lexer": "ipython3",
   "version": "3.11.7"
  }
 },
 "nbformat": 4,
 "nbformat_minor": 5
}
