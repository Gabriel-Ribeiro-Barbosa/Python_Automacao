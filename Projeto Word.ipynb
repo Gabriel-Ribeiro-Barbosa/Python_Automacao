{
 "cells": [
  {
   "cell_type": "markdown",
   "id": "e56825f2-c5b7-4fca-88c9-b183bd2d1f27",
   "metadata": {},
   "source": [
    "### Projeto Word"
   ]
  },
  {
   "cell_type": "markdown",
   "id": "6277d5d9-b4d6-486d-93b7-ec977fa5a10c",
   "metadata": {},
   "source": [
    "#### Importações"
   ]
  },
  {
   "cell_type": "code",
   "execution_count": 1,
   "id": "65832bed-17fc-40da-8f47-54852db0f3f8",
   "metadata": {},
   "outputs": [],
   "source": [
    "import pyautogui as py\n",
    "import pyperclip as pe\n",
    "from time import sleep\n",
    "from datetime import datetime\n",
    "py.PAUSE = 1"
   ]
  },
  {
   "cell_type": "markdown",
   "id": "7bb7a7b2-8774-4b26-afbb-d3603463871e",
   "metadata": {},
   "source": [
    "#### Perguntas:"
   ]
  },
  {
   "cell_type": "code",
   "execution_count": 2,
   "id": "a33bd553-ac3c-4c61-8518-7876fabd0f55",
   "metadata": {},
   "outputs": [
    {
     "name": "stdin",
     "output_type": "stream",
     "text": [
      "Matéria: Filosofia\n",
      "Imagem: https://static.mundoeducacao.uol.com.br/mundoeducacao/conteudo_legenda/8321f8ac7bb662b2707e25b7f0a212bc.jpg\n",
      "Quantidade de alunos:  1\n",
      "Nome:  Gabriel Ribeiro\n",
      "Tema:  Sócrates\n"
     ]
    }
   ],
   "source": [
    "materia = input('Matéria:')\n",
    "imagem = input('Imagem:')\n",
    "quant = int(input('Quantidade de alunos: '))\n",
    "nome = input('Nome: ')\n",
    "tema = input('Tema: ')"
   ]
  },
  {
   "cell_type": "markdown",
   "id": "e853b94a-91de-4a02-8213-cb2a65aa41fa",
   "metadata": {},
   "source": [
    "#### Entrar no Word"
   ]
  },
  {
   "cell_type": "code",
   "execution_count": 3,
   "id": "587bc582-c65b-4714-badb-6f0f60a5eedb",
   "metadata": {},
   "outputs": [],
   "source": [
    "py.press('win')\n",
    "py.write('Word')\n",
    "py.press('enter')"
   ]
  },
  {
   "cell_type": "markdown",
   "id": "228fd471-99f3-4c13-b507-91ee2186a938",
   "metadata": {},
   "source": [
    "#### Entrar no documento e colocar as formatações de texto"
   ]
  },
  {
   "cell_type": "code",
   "execution_count": 4,
   "id": "9e43795a-e397-47ab-b0ff-fe0f13bd6a27",
   "metadata": {},
   "outputs": [],
   "source": [
    "sleep(2)\n",
    "py.click(x=674, y=213)\n",
    "#Fonte:\n",
    "py.click(x=339, y=98) #fonte errada\n",
    "py.write('Al') #fonte certa\n",
    "py.press('enter')\n",
    "#Tamanho:\n",
    "py.click(x=421, y=93) #Tamanho errado\n",
    "py.write('48') #Tamanho certo\n",
    "py.press('enter')\n",
    "#Centralizar:\n",
    "py.hotkey('ctrl','e')"
   ]
  },
  {
   "cell_type": "markdown",
   "id": "bd0598b4-68da-41a0-afc5-93a6392a7a9e",
   "metadata": {},
   "source": [
    "#### Colocar texto e ajustar corretamente"
   ]
  },
  {
   "cell_type": "code",
   "execution_count": 5,
   "id": "b1bd6972-ec16-4f7b-b250-2ea80b9633f0",
   "metadata": {},
   "outputs": [],
   "source": [
    "py.write('Trabalho')\n",
    "py.press('enter')\n",
    "py.write('De')\n",
    "py.press('enter')\n",
    "pe.copy(f'{materia}') #copiar materia \n",
    "py.hotkey('ctrl', 'v') #colar\n",
    "py.press('enter')\n",
    "py.hotkey('alt','tab')"
   ]
  },
  {
   "cell_type": "markdown",
   "id": "02fa44cc-8878-43a2-9727-6ace20760f78",
   "metadata": {},
   "source": [
    "#### Colocar imagem"
   ]
  },
  {
   "cell_type": "code",
   "execution_count": 6,
   "id": "3a64ef1e-98b5-43a3-b99d-85bcb83cb159",
   "metadata": {},
   "outputs": [],
   "source": [
    "#Opera:\n",
    "py.moveTo(x=186, y=10,duration = 0.5)#Indo para o Opera\n",
    "py.click(x=186, y=10)\n",
    "py.moveTo(x=407, y=81,duration = 0.5)#Barra de pesquisa\n",
    "py.click(x=407, y=81)\n",
    "pe.copy(imagem)\n",
    "py.hotkey('ctrl','v')#Caminho da imagem\n",
    "py.press('enter')\n",
    "py.hotkey('ctrl','c')\n",
    "py.hotkey('alt','tab')#Voltando para o word\n",
    "py.hotkey('ctrl','v')"
   ]
  },
  {
   "cell_type": "markdown",
   "id": "abdb35c3-6d2a-46f9-ae75-f3829f86d49b",
   "metadata": {},
   "source": [
    "#### Ajustando imagem"
   ]
  },
  {
   "cell_type": "code",
   "execution_count": 7,
   "id": "1ad0164c-fd2f-45e0-83c8-535123d3b977",
   "metadata": {},
   "outputs": [],
   "source": [
    "py.click(x=939, y=689)\n",
    "py.click(x=893, y=49) #Formatar\n",
    "py.click(x=1300, y=108) #Tipo de formatação\n",
    "py.moveTo(x=1394, y=205,duration= 0.5)\n",
    "py.click(x=1394, y=205) #Quadrado\n",
    "py.click(x=947, y=773)\n",
    "py.press('enter')"
   ]
  },
  {
   "cell_type": "markdown",
   "id": "410a22c4-d882-4a70-abff-60a326360a7e",
   "metadata": {},
   "source": [
    "#### Ajustar fonte novamente"
   ]
  },
  {
   "cell_type": "code",
   "execution_count": 8,
   "id": "f0f89664-6e4a-4748-b9dd-3c87edf300d7",
   "metadata": {},
   "outputs": [],
   "source": [
    "#Ajustando a fonte:\n",
    "py.click(x=339, y=98) #Fonte velha\n",
    "py.write('Al') #Fonte nova\n",
    "py.press('enter')\n",
    "#Tamanho:\n",
    "py.click(x=421, y=93) #Tamanho errado\n",
    "py.write('16') #Tamanho certo\n",
    "py.press('enter')\n",
    "py.hotkey('ctrl','j') #Justificar"
   ]
  },
  {
   "cell_type": "markdown",
   "id": "d98396d2-40ad-4598-ba86-603d78fa75dd",
   "metadata": {},
   "source": [
    "#### Colocar nome e dados adicionais"
   ]
  },
  {
   "cell_type": "code",
   "execution_count": 9,
   "id": "b4d70cac-a51a-4ca1-a694-257e8216d170",
   "metadata": {},
   "outputs": [],
   "source": [
    "if quant == 1:\n",
    "    py.write('Nome: ') #Nome\n",
    "else:\n",
    "    py.write('Nomes: ') #Nomes\n",
    "pe.copy(f'{nome}') #Nome\n",
    "py.hotkey('ctrl','v')\n",
    "py.press('enter')\n",
    "py.write('Turma: 201') #Turma\n",
    "py.press('enter')\n",
    "py.write('Escola: ')#Escola\n",
    "pe.copy('Selim José de Salles') #Escola\n",
    "py.hotkey('ctrl','v')\n",
    "py.press('enter')\n",
    "py.write('Tema: ') #Tema\n",
    "pe.copy(f'{tema}') #Tema\n",
    "py.hotkey('ctrl','v')\n",
    "py.press('enter')\n",
    "py.write('Data: ')\n",
    "data_atual = datetime.now()#Indentificando a data atual\n",
    "data = f'{data_atual.day}/0{data_atual.month}/{data_atual.year}'\n",
    "pe.copy(data)\n",
    "py.hotkey('ctrl','v') #Escrevendo data"
   ]
  },
  {
   "cell_type": "markdown",
   "id": "522e9889-01dc-44f6-839a-a37957cc6913",
   "metadata": {},
   "source": [
    "#### Mover imagem"
   ]
  },
  {
   "cell_type": "code",
   "execution_count": 10,
   "id": "9c9f33e1-f650-4b9b-b1da-a3d64d744b8a",
   "metadata": {},
   "outputs": [],
   "source": [
    "#sleep(1)\n",
    "#py.click(x=940, y=532) #Clicar na imagem\n",
    "#py.mouseDown() #Segurar\n",
    "#py.moveTo(x=940, y=499,duration=1) #Mover\n",
    "#py.mouseUp() #Soutar"
   ]
  },
  {
   "cell_type": "markdown",
   "id": "8489e8ad-556c-4ef9-b744-c805264d8387",
   "metadata": {},
   "source": [
    "### Posição por mouse"
   ]
  },
  {
   "cell_type": "code",
   "execution_count": 11,
   "id": "13ce99c1-d12c-46f6-bdd0-e340ff81e598",
   "metadata": {},
   "outputs": [
    {
     "data": {
      "text/plain": [
       "Point(x=926, y=605)"
      ]
     },
     "execution_count": 11,
     "metadata": {},
     "output_type": "execute_result"
    }
   ],
   "source": [
    "sleep(5)\n",
    "py.position()"
   ]
  },
  {
   "cell_type": "code",
   "execution_count": 12,
   "id": "3bbd9633-fa4a-43c4-b466-567e984ffc00",
   "metadata": {},
   "outputs": [
    {
     "name": "stdout",
     "output_type": "stream",
     "text": [
      "['\\t', '\\n', '\\r', ' ', '!', '\"', '#', '$', '%', '&', \"'\", '(', ')', '*', '+', ',', '-', '.', '/', '0', '1', '2', '3', '4', '5', '6', '7', '8', '9', ':', ';', '<', '=', '>', '?', '@', '[', '\\\\', ']', '^', '_', '`', 'a', 'b', 'c', 'd', 'e', 'f', 'g', 'h', 'i', 'j', 'k', 'l', 'm', 'n', 'o', 'p', 'q', 'r', 's', 't', 'u', 'v', 'w', 'x', 'y', 'z', '{', '|', '}', '~', 'accept', 'add', 'alt', 'altleft', 'altright', 'apps', 'backspace', 'browserback', 'browserfavorites', 'browserforward', 'browserhome', 'browserrefresh', 'browsersearch', 'browserstop', 'capslock', 'clear', 'convert', 'ctrl', 'ctrlleft', 'ctrlright', 'decimal', 'del', 'delete', 'divide', 'down', 'end', 'enter', 'esc', 'escape', 'execute', 'f1', 'f10', 'f11', 'f12', 'f13', 'f14', 'f15', 'f16', 'f17', 'f18', 'f19', 'f2', 'f20', 'f21', 'f22', 'f23', 'f24', 'f3', 'f4', 'f5', 'f6', 'f7', 'f8', 'f9', 'final', 'fn', 'hanguel', 'hangul', 'hanja', 'help', 'home', 'insert', 'junja', 'kana', 'kanji', 'launchapp1', 'launchapp2', 'launchmail', 'launchmediaselect', 'left', 'modechange', 'multiply', 'nexttrack', 'nonconvert', 'num0', 'num1', 'num2', 'num3', 'num4', 'num5', 'num6', 'num7', 'num8', 'num9', 'numlock', 'pagedown', 'pageup', 'pause', 'pgdn', 'pgup', 'playpause', 'prevtrack', 'print', 'printscreen', 'prntscrn', 'prtsc', 'prtscr', 'return', 'right', 'scrolllock', 'select', 'separator', 'shift', 'shiftleft', 'shiftright', 'sleep', 'space', 'stop', 'subtract', 'tab', 'up', 'volumedown', 'volumemute', 'volumeup', 'win', 'winleft', 'winright', 'yen', 'command', 'option', 'optionleft', 'optionright']\n"
     ]
    }
   ],
   "source": [
    "print(py.KEYBOARD_KEYS)"
   ]
  }
 ],
 "metadata": {
  "kernelspec": {
   "display_name": "Python 3 (ipykernel)",
   "language": "python",
   "name": "python3"
  },
  "language_info": {
   "codemirror_mode": {
    "name": "ipython",
    "version": 3
   },
   "file_extension": ".py",
   "mimetype": "text/x-python",
   "name": "python",
   "nbconvert_exporter": "python",
   "pygments_lexer": "ipython3",
   "version": "3.11.7"
  }
 },
 "nbformat": 4,
 "nbformat_minor": 5
}
